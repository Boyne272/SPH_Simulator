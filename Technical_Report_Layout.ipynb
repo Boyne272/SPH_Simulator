{
 "cells": [
  {
   "cell_type": "markdown",
   "metadata": {},
   "source": [
    "##                        TEAM SOUTHERN TECHNICAL REPORT LAYOUT"
   ]
  },
  {
   "cell_type": "markdown",
   "metadata": {},
   "source": [
    "1. Team Introduction.\n",
    "\n",
    "\n",
    "\n",
    "1. Description of Solution Algorithm.\n",
    "    - Features on how algorithm was implemented to get SPH Code working\n",
    "    - Flowchart to highlight main simulation loops and steps required within the loops\n",
    "    - How was particle leaking dealth with?\n",
    "\n",
    "\n",
    "\n",
    "2. Demonstration of software functionality with FE time stepping method.\n",
    "    - Animations included.\n",
    "    - Brief description of results.\n",
    "\n",
    "\n",
    "\n",
    "3. Demonstration of software functionality with Predictor-Corrector time stepping scheme.\n",
    "    - Animations included.\n",
    "    - Brief description of results.\n",
    "\n",
    "\n",
    "\n",
    "4. Comparison between SPH simulator and shallow water velocities.\n",
    "    - Discussion\n",
    "\n",
    "\n",
    "\n",
    "5. Impact of choice of velocity of sound in water.\n",
    "\n",
    "\n",
    "\n",
    "6. Impact of changing the smoothing length.\n",
    "\n",
    "\n",
    "\n",
    "7. Improvement on the linked search method.\n",
    "\n",
    "\n",
    "\n",
    "8. Convergence Analysis.\n",
    "    - Describe error meteric used and how it was obtained.\n",
    "    - What order of convergence?\n",
    "\n",
    "\n",
    "\n",
    "9. Impact of Artifical pressure term\n",
    "    - Compare results with and without artificial pressure \n",
    "    - Aminations of results obtained.\n",
    "\n",
    "\n",
    "\n",
    "10. SPH simulator for non vertical/horizontal boundries\n",
    "\n",
    "\n",
    "\n",
    "11. SPH simulator for a shoaling wave.\n",
    "\n",
    "\n",
    "\n",
    "12. Challenges and Lessons learnt\n",
    "\n",
    "\n",
    "\n",
    "13. Conclusion\n"
   ]
  },
  {
   "cell_type": "markdown",
   "metadata": {},
   "source": [
    "## IMPACT OF ARTIFICIAL PRESSURE"
   ]
  },
  {
   "cell_type": "markdown",
   "metadata": {},
   "source": [
    "- The Artificial pressure term introduced by J. J Monaghan was implemented to improve the simulation results and asthetics as follows:\n",
    "\n",
    "\n",
    "- Applying the artificial pressure term to the SPH acceleration of a particle 'a' gives;\n",
    "\n",
    "\n",
    "$$a_i = \\sum_{j=0}^{N} m_j \\left(\\frac{P_i}{\\rho_i^2} + \\frac{P_j}{\\rho_j^2}\\right) \\frac{dW}{dr} e_{ij} +  \\mu \\sum_{j=0}^{N} m_j \\left(\\frac{1}{\\rho_i^2} + \\frac{1}{\\rho_j^2}\\right) \\frac{dW}{dr} \\frac{V_i}{\\left|r_{ij}\\right|} + \\sum_{j=0}^{N} Rf_{ij}^n + g $$\n",
    "\n",
    "\n",
    "where $r > 0$,  $R = f(P,\\rho)$\n",
    "\n",
    "\n",
    "$$R = R_i + R_j,   \\in = 0.2 $$\n",
    "\n",
    "$$R_i = \\begin{cases}\\in \\frac{\\left|P_{i}\\right|}{\\rho_{i}^2} , & \\text{if $P_i<0$}.\\\\\\\\\n",
    "0.01\\left(\\frac{P_i}{\\rho_i^2} + \\frac{P_j}{\\rho_j^2}\\right) , & \\text{if $otherwise$}.\\end{cases}$$\n",
    "\n",
    "\n",
    "To get $R_j$ we replace $i$ with $j$ in the equation above\n",
    "\n",
    "\n",
    "$$W_{i,j}^2 = \\frac{10}{7\\pi h^2}\\begin{cases} \\left(1 - \\frac{3}{2}q^2 + \\frac{3}{4}q^2\\right)^n, & \\text{if $0<=q<=1$}.\\\\\\\\\n",
    "\\frac{1}{4}\\left(2 - q\\right)^{3n} , & \\text{if $1<=q<=2$}, \\\\\\\\\n",
    "0, & \\text{if $q>2$}.\\end{cases}$$\n",
    "\n",
    "\n",
    "$$f_{ij}^n = \\frac{dW_{ij}^n}{dr}$$"
   ]
  }
 ],
 "metadata": {
  "kernelspec": {
   "display_name": "Python 3",
   "language": "python",
   "name": "python3"
  },
  "language_info": {
   "codemirror_mode": {
    "name": "ipython",
    "version": 3
   },
   "file_extension": ".py",
   "mimetype": "text/x-python",
   "name": "python",
   "nbconvert_exporter": "python",
   "pygments_lexer": "ipython3",
   "version": "3.6.5"
  }
 },
 "nbformat": 4,
 "nbformat_minor": 2
}
