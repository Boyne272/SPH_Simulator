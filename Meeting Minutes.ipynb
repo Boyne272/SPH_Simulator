{
 "cells": [
  {
   "cell_type": "markdown",
   "metadata": {},
   "source": [
    "# Meeting Minutes "
   ]
  },
  {
   "cell_type": "markdown",
   "metadata": {},
   "source": [
    "### Meeting 1 (10/12) 11am\n",
    "\n",
    "All Present\n",
    "\n",
    "Agreed on\n",
    "- 9am to 9pm\n",
    "- Github and Travis\n",
    "- Be careful, use branches ! One per subteam \n",
    " \n",
    "Team Members strengths:\n",
    "- Yusuf : \n",
    "\t\t○ not as confident with coding\n",
    "\t\t○ House keeping stuff report \n",
    "\t\t○ Sphynx\n",
    "- Debbie\n",
    "\t\t○ Good coder\n",
    "\t\t○ Numerical and analytical\n",
    "- Tayfun\n",
    "\t\t○ Good at coding\n",
    "- Richard\n",
    "\t\t○ Good Coder\n",
    "\t\t○ Animation\n",
    "- Deirdree\n",
    "\t\t○ Ok coding, mixing\n",
    "\n",
    "Schedule : \n",
    "- Monday is data structure, first euler \n",
    "- Tuesday - Wednesday : Coding Tasks in Sub Teams\n",
    "- Thursday : User Interface / Report / \n",
    "\n",
    "Group Meeting Plans:\n",
    "- Every Morning and After Lunch. Check progress, problems and next steps\n",
    "\n",
    "Sub Teams: \n",
    "\n",
    "- Team Numeric : Debbie, Yusuf, Di\n",
    "- Team Animation : Richard, Tayfun\n",
    "- Team Test : Di, Richard \n",
    "- Team Housekeeping: Di, Yusuf\n",
    "\n"
   ]
  },
  {
   "cell_type": "markdown",
   "metadata": {},
   "source": [
    "### AGREED ON, CARVED IN STONE\n",
    "\n",
    "Subgroup 1: Numerical Analysis\n",
    "Do numerical analysis, both methods\n",
    "Sustainable coding\n",
    "Error and Stability Handling\n",
    "Convergence Analysis (if spare time)\n",
    "Write Unit testing\n",
    "\n",
    "Subgroup 2: Visualisation and post-processing\n",
    "Final Animation t=30s\n",
    "Other animations if want\n",
    "Sustainable coding\n",
    "Checkpointing\n",
    "Analysis of parameter variation with time and position (?) density, pressure, velocity\n",
    "Write Unit testing\n",
    "\n",
    "Subgroup 3: Time and Communication Manager + Testing\n",
    "Stand-up meetings (morning and lunch)\n",
    "Make sure code architecture is being followed and proper docstrings are being written\n",
    "Set up tests to Travis\n",
    "Have tests based on 0.1 or 0.5 seconds\n",
    "Upload the unit tests\n",
    "Physical testing\n",
    "Dodgy inputs (try to break the code)\n",
    "\n",
    "ALL (last days):\n",
    "(Day 1) Code architecture, files to be worked on, inputs and outputs\n",
    "Sphyinx (Yusef -- might change)\n",
    "README page (Richard, Tayfun -- might change)\n",
    "Technical Report (Yousef and Debs -- might change)\n",
    "Choose a license (Done)\n",
    "Practice presentation (all)\n",
    "\n",
    "GIT RULES:\n",
    "Thou shall not work on masters\n",
    "Thou shall not approve one’s own pull requests\n",
    "Thou shall not merge outside of a pull request\n",
    "Thou shall raise your issues\n",
    "\n",
    "GENERAL RULES\n",
    "Docstring functions with units and types -- agreed on numpy style\n",
    "Working hours are 9am-9pm with flexibility for sports, etc.\n",
    "Communicate and ask for help when stuck\n",
    "Be present and contributive to standing-up meetings (agreed to twice a day, limit of 10 min)\n",
    "Let’s be nice and respectful to each other"
   ]
  },
  {
   "cell_type": "markdown",
   "metadata": {},
   "source": [
    "## Meeting 2 11/12 AM\n",
    "\n",
    "\n",
    "- Updating everyone on what has been done \n",
    "    - all differential equations implemented\n",
    "    - in main, with \n",
    "\n",
    "- Today's plan\n",
    "    - Debbie and Yusuf to implement the time stepping with constant time step\n",
    "    - Di to do a dummy updating time step\n",
    "    - Richard/Tayfun work on highest wave point task 5\n",
    "    - Once Team Numeric has data, Team Animation to start making first animation. "
   ]
  }
 ],
 "metadata": {
  "kernelspec": {
   "display_name": "Python 3",
   "language": "python",
   "name": "python3"
  },
  "language_info": {
   "codemirror_mode": {
    "name": "ipython",
    "version": 3
   },
   "file_extension": ".py",
   "mimetype": "text/x-python",
   "name": "python",
   "nbconvert_exporter": "python",
   "pygments_lexer": "ipython3",
   "version": "3.6.5"
  }
 },
 "nbformat": 4,
 "nbformat_minor": 2
}
